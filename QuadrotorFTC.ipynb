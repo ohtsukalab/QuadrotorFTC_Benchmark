{
 "cells": [
  {
   "cell_type": "markdown",
   "metadata": {},
   "source": [
    "# AutoGenU for Jupyter: Fault-Tolerant Control of a Quadrotor\n",
    "\n",
    "An Automatic C++ Code Generator for Nonlinear Model Predictive Control (NMPC)  \n",
    "\n",
    "---  "
   ]
  },
  {
   "cell_type": "markdown",
   "metadata": {},
   "source": [
    "## Quadrotor Model   \n",
    "#### Variables\n",
    "$\\xi$: position in the inertial frame $\\{ e_1^\\textrm{i}, e_2^\\textrm{i}, e_3^\\textrm{i} \\}$  \n",
    "$v$: velocity in the intertial frame $\\{ e_1^\\textrm{i}, e_2^\\textrm{i}, e_3^\\textrm{i} \\}$  \n",
    "$q$: unit quaternion (in the body frame) representing the rotation of the inertial frame $\\{ e_1^\\textrm{i}, e_2^\\textrm{i}, e_3^\\textrm{i} \\}$ to the body frame $\\{ e_1^\\textrm{b}, e_2^\\textrm{b}, e_3^\\textrm{b} \\}$:   \n",
    "$e_j^\\textrm{b} = q \\otimes e_j^\\textrm{i} \\otimes q^* (j=1,2,3)$ holds, where $\\otimes$ denotes the product of quaternions, and $q^*$ denotes the conjugate quaternion of $q$.   \n",
    "$\\omega$: angular velocity in the body frame $\\{ e_1^\\textrm{b}, e_2^\\textrm{b}, e_3^\\textrm{b} \\}$   \n",
    "$u$: thrust vector   \n",
    "#### Parameters   \n",
    "$m$: mass, $J$: moment of intertia, $d_3$: coefficient of aerodynamic drag in the yaw axis, $\\ell$ distance between the center of mass and each rotor,   \n",
    "$k$: a coefficient representing the relationship between the thrust and reaction torque in each rotor,   \n",
    "$c_1$: thrust reduction factor of rotor No. 1 ($0 \\leq c_1 \\leq 1$) (1: normal, 0: completely failed) \n",
    "#### State Equation\n",
    "$$\\begin{array}{l}\n",
    "    \\dot{\\xi} = v \\\\\n",
    "    \\dot{v} = -g e_3^\\textrm{i} + \\frac{1}{m} e_3^\\textrm{b}(q) s^{\\top} u \\\\   % E_3^\\textrm{b}(q) u \\\\\n",
    "    \\dot{q} = \\frac{1}{2} \\Omega(\\omega) q   \\quad \\textrm{Note that $q$ is in the inertial frame while $\\omega$ is in the body frame. This is correct with $\\Omega(\\omega)$ defined appropriately.} \\\\\n",
    "    \\dot{\\omega} = - J^{-1} \\omega^{\\times} J \\omega - J^{-1} D \\omega + J^{-1} T u \n",
    "\\end{array} $$  \n",
    "where\n",
    "$$\\begin{array}{l}\n",
    "e_3^\\textrm{b}(q) &=& \\left[ 2(q_0 q_2 + q_1 q_3) \\quad 2(q_2 q_3 - q_0 q_1) \\quad q_0^2 - q_1^2 - q_2^2 + q_3^2 \\right]^{\\top} \\in \\mathbb{R}^3, \\\\\n",
    "    s &=& \\left[ c_1 \\; 1 \\; 1 \\; 1 \\right]^{\\top} \\in \\mathbb{R}^4 \\\\\n",
    "    \\omega^{\\times} &=& \\begin{bmatrix}\n",
    "            0    &  -\\omega_3  &   \\omega_2 \\\\\n",
    "        \\omega_3 &       0     &  -\\omega_1 \\\\\n",
    "       -\\omega_2 &   \\omega_1  &      0     \\\\\n",
    "      \\end{bmatrix}  \\in \\mathbb{R}^{3 \\times 3}, \\\\\n",
    "    \\Omega &=& \\begin{bmatrix}\n",
    "           0   &  -\\omega^{\\top} \\\\\n",
    "        \\omega &  -\\omega^{\\times}\n",
    "      \\end{bmatrix}   \\in \\mathbb{R}^{4 \\times 4}, \\\\\n",
    "    D &=& {\\rm diag}[0,0,d_3] \\in \\mathbb{R}^{3 \\times 3} \\\\\n",
    "    T &=& \\begin{bmatrix}\n",
    "           0  &  \\ell &  0   & -\\ell \\\\\n",
    "        - c_1 \\ell &   0   & \\ell &   0  \\\\\n",
    "          c_1 k  &  -k   &  k   &  -k  \n",
    "      \\end{bmatrix} \\in \\mathbb{R}^{3 \\times 4},\n",
    "\\end{array}$$\n",
    "#### Representations by Array x\n",
    "$$\\xi = [x[0],x[1],x[2]], v = [x[3],x[4],x[5]], q = [x[6],x[7],x[8],x[9]], \\omega = [x[10],x[11],x[12]]$$\n",
    "$$e_3^\\textrm{b}(q) = [ 2*(x[6]*x[8] + x[7]*x[9]) \\quad 2*(x[8]*x[9] - x[6]*x[7]) \\quad x[6]**2 - x[7]**2 - x[8]**2 + x[9]**2 ]$$"
   ]
  },
  {
   "cell_type": "markdown",
   "metadata": {},
   "source": [
    "---\n",
    "\n",
    "# Generate C++ code for optimal control problem (OCP)"
   ]
  },
  {
   "cell_type": "markdown",
   "metadata": {},
   "source": [
    "## Import module"
   ]
  },
  {
   "cell_type": "code",
   "execution_count": 8,
   "metadata": {
    "tags": []
   },
   "outputs": [],
   "source": [
    "from autogenu_jupyter import autogenu"
   ]
  },
  {
   "cell_type": "markdown",
   "metadata": {},
   "source": [
    "## Set dimensions and define `AutoGenU`\n",
    "- `nx`: Dimension of the state vector $x$   \n",
    "- `nu`: Dimension of the control input vector $u$  \n",
    "- `ocp_name`: Name of the optimal control problem (OCP). Used as the name of the directory containing the generated C++ source files."
   ]
  },
  {
   "cell_type": "code",
   "execution_count": 9,
   "metadata": {
    "tags": []
   },
   "outputs": [],
   "source": [
    "nx = 13\n",
    "nu = 4\n",
    "ocp_name = 'QuadrotorFTC'\n",
    "ag = autogenu.AutoGenU(ocp_name, nx, nu)"
   ]
  },
  {
   "cell_type": "markdown",
   "metadata": {},
   "source": [
    "## Generate t, x, and u, necessary variables to formulate of the optimal control problem\n",
    "- `t`: Time parameter $t$  \n",
    "- `x`: The state vector $x$  \n",
    "- `u`: The control input vector $u$  "
   ]
  },
  {
   "cell_type": "code",
   "execution_count": 10,
   "metadata": {
    "tags": []
   },
   "outputs": [],
   "source": [
    "t = ag.define_t()\n",
    "x = ag.define_x()\n",
    "u = ag.define_u()"
   ]
  },
  {
   "cell_type": "markdown",
   "metadata": {},
   "source": [
    "## Define variables used in the state equation, constraints, and cost function\n",
    "- Define a scalar variable whose name is \"var\" as  \n",
    "`var = ag.define_scalar_var('var') `\n",
    "\n",
    "- Define scalar variables whose names are \"var\\_1\", \"var\\_2\", ..., \"var\\_n\" as  \n",
    "`var_1, var_2, ..., var_n = ag.define_scalar_vars('var_1', 'var_2', ..., 'var_n')`\n",
    "\n",
    "- Define array variables whose name is \"vec\" and dimension is dim_vec as  \n",
    "`vec = ag.define_array_var('vec', dim_vec)`"
   ]
  },
  {
   "cell_type": "code",
   "execution_count": 11,
   "metadata": {
    "tags": []
   },
   "outputs": [],
   "source": [
    "# Variables used in the state function\n",
    "m, g, J1, J2, J3, d3, l, k, c1 = ag.define_scalar_vars('m', 'g', 'J1', 'J2', 'J3', 'd3', 'l', 'k', 'c1')\n",
    "# Variables used in the cost function\n",
    "s = ag.define_array_var('s', nx)\n",
    "s_terminal = ag.define_array_var('s_terminal', nx)\n",
    "x_ref = ag.define_array_var('x_ref', nx)\n",
    "r = ag.define_array_var('r', nu)\n",
    "u_ref = ag.define_array_var('u_ref', nu)"
   ]
  },
  {
   "cell_type": "markdown",
   "metadata": {},
   "source": [
    "## Define the state equation, constraints, the stage cost, and the terminal cost\n",
    "- `f`: The state equation $ f(t, x, u)$  \n",
    "- `C`: The equality constraisnts $C(t, x, u) = 0 $  \n",
    "- `h`: The inequality constraisnts $h(t, x, u) \\leq 0$ considered by semi-smooth Fischer-Burumeister method  \n",
    "- `L`: The stage cost $L(t, x, u)$  \n",
    "- `phi`: The terminal cost $\\phi (t, x)$  \n",
    "\n",
    "Note: array indices start with 0"
   ]
  },
  {
   "cell_type": "code",
   "execution_count": 12,
   "metadata": {
    "tags": []
   },
   "outputs": [],
   "source": [
    "# Import symbolic math from sympy. If you need more functions, import same as below.\n",
    "from sympy import sin, cos, tan, exp, log, sinh, cosh, tanh, diff, sqrt"
   ]
  },
  {
   "cell_type": "code",
   "execution_count": 13,
   "metadata": {
    "tags": []
   },
   "outputs": [],
   "source": [
    "# Define the state equation\n",
    "f = [𝑥[3],\n",
    "     𝑥[4],\n",
    "     𝑥[5],\n",
    "     2*(x[6]*x[8] + x[7]*x[9]) * (c1*u[0] + u[1] + u[2] + u[3])/m,\n",
    "     2*(x[8]*x[9] - x[6]*x[7]) * (c1*u[0] + u[1] + u[2] + u[3])/m,\n",
    "     -g + (x[6]**2 - x[7]**2 - x[8]**2 + x[9]**2) * (c1*u[0] + u[1] + u[2] + u[3])/m,\n",
    "     (           - x[7]*𝑥[10] - x[8]*𝑥[11] - x[9]*𝑥[12])/2,\n",
    "     (x[6]*𝑥[10]              + x[8]*x[12] - x[9]*x[11])/2,\n",
    "     (x[6]*x[11] - x[7]*x[12]              + x[9]*x[10])/2,\n",
    "     (x[6]*x[12] + x[7]*x[11] - x[8]*x[10]             )/2,\n",
    "     (J2*x[11]*x[12] - J3*x[11]*x[12] + l*u[1] - l*u[3])/J1,\n",
    "     (-J1*x[10]*x[12] + J3*x[10]*x[12] - l*c1*u[0] + l*u[2])/J2,\n",
    "     (J1*x[10]*x[11] - J2*x[10]*x[11] - d3*x[12] + k*c1*u[0] - k*u[1] + k*u[2] - k*u[3])/J3\n",
    "    ]\n",
    "\n",
    "# Define the constraints\n",
    "C = []\n",
    "\n",
    "# Define the inequality constraints considered using the semi-smooth Fischer-Burmeister method\n",
    "h = []\n",
    "\n",
    "# Define the stage cost\n",
    "L = sum(s[i]*(x[i] - x_ref[i])**2 for i in range(nx))/2 + sum(r[i] * (u[i] - u_ref[i])**2 for i in range(nu))/2\n",
    "\n",
    "# Define the terminal cost\n",
    "phi = sum(s_terminal[i]*(x[i] - x_ref[i])**2 for i in range(nx))/2 "
   ]
  },
  {
   "cell_type": "code",
   "execution_count": 14,
   "metadata": {
    "tags": []
   },
   "outputs": [],
   "source": [
    "# Set functions\n",
    "ag.set_functions(f, C, h, L, phi)"
   ]
  },
  {
   "cell_type": "markdown",
   "metadata": {},
   "source": [
    "## Define the control input bound constraints\n",
    "The box constraints on the control input $u_{\\rm min} \\leq u \\leq u_{\\rm max}$ are treated in a special manner.\n",
    "Specifically, it is transformed into $$u^2 + u_{\\rm dummy}^2 - (\\frac{u_{\\rm max} - u_{\\rm min}}{2})^2 = 0$$.  \n",
    "Further, $u_{\\rm dummy}$ and associated Lagrange multiplier are eliminated in Newton-type iteration efficiently in the multiple-shooting solver.  \n",
    "Set such box constraints by specifying\n",
    "- `uindex`: index of the constrained control input element\n",
    "- `umin`: Minimum value (lower bound) of the control input element\n",
    "- `umax`: Maximum value (upper bound) of the control input element\n",
    "- `dummy_weight`: Weight parameter of the dummy (slack) variable"
   ]
  },
  {
   "cell_type": "code",
   "execution_count": 15,
   "metadata": {
    "tags": []
   },
   "outputs": [],
   "source": [
    "for uindex in range(nu):\n",
    "    ag.add_control_input_bounds(uindex=uindex, umin=0.0065, umax=0.3266, dummy_weight=100.0)  "
   ]
  },
  {
   "cell_type": "markdown",
   "metadata": {},
   "source": [
    "## Set Parameters\n",
    "Set values for all parameters you defined.\n",
    "- Set `value` for a scalar variable whose name is \"var\" as  \n",
    "`ag.set_scalar_var('var', value) `\n",
    "\n",
    "- Set `value_1`, `value_2`, ..., `value_n`, for scalar variables whose names are \"var\\_1\", \"var\\_2\", ..., \"var\\_n\" as  \n",
    "`ag.set_scalar_vars(['var_1', value_1], ['var_2', value_2], ..., ['var_n', value_n])`\n",
    "\n",
    "- Set array variables `var_1`, `var_2`, ..., `var_n` whose name is \"vec\" and dimension is n as  \n",
    "`ag.define_array_var('vec', [var_1, var_2, ..., var_n])`"
   ]
  },
  {
   "cell_type": "code",
   "execution_count": 16,
   "metadata": {
    "tags": []
   },
   "outputs": [],
   "source": [
    "ag.set_scalar_vars(['m',0.063], ['g',9.81], ['J1',5.83e-5], ['J2',7.17e-5], ['J3',1.00e-4], ['d3',1.0e-3], ['l',0.0624], ['k',0.0731],['c1',0.0])  \n",
    "ag.set_array_var('s', [5,5,50, 1,1,1, 0,1,1,1, 0.1,0.1,0.1])  # Zero weight for q_0\n",
    "ag.set_array_var('s_terminal', [5,5,50, 1,1,1, 0,1,1,1, 0.1,0.1,0.1])\n",
    "ag.set_array_var('x_ref', [0,0,0, 0,0,0, 1,0,0,0, 0,0,0]) \n",
    "ag.set_array_var('r', [1,1,1,1])\n",
    "u_ref_eq = m*g/(c1+3)\n",
    "ag.set_array_var('u_ref', [u_ref_eq,u_ref_eq,u_ref_eq,u_ref_eq])  "
   ]
  },
  {
   "cell_type": "markdown",
   "metadata": {},
   "source": [
    "## Generate C++ codes of the definition of the optimal control problem\n",
    "Generate `ocp.hpp` that defines the optimal control problem (OCP).  \n",
    "- `simplification`: The flag for simplification. If `True`, symbolic functions are simplified. However, if functions are too complicated, it takes too much time. Default is `False`.  \n",
    "- `common_subexpression_elimination`: The flag for common subexpression elimination. If `True`, common subexpressions in fxu, phix, hx, and hu are eliminated when `ocp.hpp` is generated. Default is `False`. "
   ]
  },
  {
   "cell_type": "code",
   "execution_count": 17,
   "metadata": {
    "tags": []
   },
   "outputs": [
    {
     "name": "stdout",
     "output_type": "stream",
     "text": [
      "'ocp.hpp', the definition of the OCP, is generated at D:\\Users\\hn3to\\OneDrive - Kyoto Univ\\ToCheck\\BenchmarkBook\\Test\\QuadrotorFTC_Benchmark\\generated\\QuadrotorFTC\n"
     ]
    }
   ],
   "source": [
    "simplification = False\n",
    "common_subexpression_elimination = True\n",
    "\n",
    "ag.generate_ocp_definition(simplification, common_subexpression_elimination)"
   ]
  },
  {
   "cell_type": "markdown",
   "metadata": {},
   "source": [
    "---  \n",
    "# Generate C++ codes of NMPC solver and numerical simulation  "
   ]
  },
  {
   "cell_type": "markdown",
   "metadata": {},
   "source": [
    "## Set NLP type  \n",
    "Set which NLP formulation you use. (hint: `MultipleShooting` works better for typical nonlinear problems.)\n",
    "- `MultipleShooting` (recommended) : The multiple shooting based C/GMRES method with condensing of the state and the Lagragne multipliers with respect to the state equation.\n",
    "- `SingleShooting` : The single shooting method, i.e., the original C/GMRES method."
   ]
  },
  {
   "cell_type": "code",
   "execution_count": 18,
   "metadata": {
    "scrolled": true,
    "tags": []
   },
   "outputs": [],
   "source": [
    "nlp_type = autogenu.NLPType.MultipleShooting\n",
    "#nlp_type = autogenu.NLPType.SingleShooting\n",
    "ag.set_nlp_type(nlp_type)"
   ]
  },
  {
   "cell_type": "markdown",
   "metadata": {},
   "source": [
    "## Set horizon length \n",
    "\n",
    "- `Tf`, `alpha`: Parameters for the length of the horizon. If $\\alpha > 0$, time-varying horizon length $T(t) = T_f (1 - e^{-\\alpha t})$ is used. Otherwise, $T(t)$ is fixed by $T_f$. "
   ]
  },
  {
   "cell_type": "code",
   "execution_count": 19,
   "metadata": {
    "tags": []
   },
   "outputs": [],
   "source": [
    "Tf = 0.4\n",
    "alpha = 1.0\n",
    "\n",
    "ag.set_horizon_params(Tf, alpha)"
   ]
  },
  {
   "cell_type": "markdown",
   "metadata": {},
   "source": [
    "## Set parameters for the C/GMRES method\n",
    "\n",
    "- `sampling_time`: Sampling period.\n",
    "- `N`: The number of the discretization grids of the horzion.  \n",
    "- `finite_difference_epsilon`: Step length of a finite difference approximations of hessian-vector products in C/GMRES.   \n",
    "- `zeta`: A stabilization parameter of the C/GMRES method. Basically, must be set by the reciprocal of the sampling time.  \n",
    "- `kmax`: The maximam number of the iteration of the GMRES."
   ]
  },
  {
   "cell_type": "code",
   "execution_count": 20,
   "metadata": {
    "code_folding": [],
    "tags": []
   },
   "outputs": [],
   "source": [
    "sampling_time = 1.0e-3\n",
    "N = 80\n",
    "finite_difference_epsilon = 1e-8\n",
    "zeta = 1/sampling_time\n",
    "kmax = 10\n",
    "\n",
    "ag.set_solver_params(sampling_time, N, finite_difference_epsilon, zeta, kmax)"
   ]
  },
  {
   "cell_type": "markdown",
   "metadata": {},
   "source": [
    "## Set parameters for the initialization of the solution  \n",
    "- `solution_initial_guess`: The initial guess of the solution of the optimal control problem (OCP) for initialization of the solution of NMPC.   \n",
    "- `tolerance`: The residual tolerance of the solution of the OCP for the initialization of the solution of NMPC. The Newton iteration terminates when the optimality error is less than this velue.  \n",
    "- `max_iterations`: The maxmum number of Newton iteration for the initialization of the solution of NMPC.  "
   ]
  },
  {
   "cell_type": "code",
   "execution_count": 21,
   "metadata": {
    "tags": []
   },
   "outputs": [],
   "source": [
    "solution_initial_guess = [0.1,0.11,0.09,0.12]  # Non-uniform values often work well. \n",
    "tolerance = 1e-6\n",
    "max_iterations = 100 \n",
    "\n",
    "ag.set_initialization_params(solution_initial_guess, tolerance, max_iterations)"
   ]
  },
  {
   "cell_type": "markdown",
   "metadata": {},
   "source": [
    "## Set parameters for numerical simulation\n",
    "- `initial_time`: Initial time of the numerical simulation.  \n",
    "- `initial_state`: Initial state vector of the system.  \n",
    "- `simulation_length`: Simulation length.  "
   ]
  },
  {
   "cell_type": "code",
   "execution_count": 22,
   "metadata": {
    "tags": []
   },
   "outputs": [],
   "source": [
    "initial_time = 0\n",
    "initial_state = [-1,-1,-1, 0,0,0, 1,0,0,0, 0,0,0]  \n",
    "simulation_length = 10\n",
    "\n",
    "ag.set_simulation_params(initial_time, initial_state, simulation_length) "
   ]
  },
  {
   "cell_type": "markdown",
   "metadata": {},
   "source": [
    "## Generate main.cpp and CMakeLists.txt"
   ]
  },
  {
   "cell_type": "code",
   "execution_count": 23,
   "metadata": {
    "scrolled": true,
    "tags": []
   },
   "outputs": [
    {
     "name": "stdout",
     "output_type": "stream",
     "text": [
      "'main.cpp', the closed-loop simulation code, is generated at D:\\Users\\hn3to\\OneDrive - Kyoto Univ\\ToCheck\\BenchmarkBook\\Test\\QuadrotorFTC_Benchmark\\generated\\QuadrotorFTC\n",
      "CMakeLists.txt are generated at D:\\Users\\hn3to\\OneDrive - Kyoto Univ\\ToCheck\\BenchmarkBook\\Test\\QuadrotorFTC_Benchmark\\generated\\QuadrotorFTC\\python\n"
     ]
    }
   ],
   "source": [
    "ag.generate_main()\n",
    "ag.generate_cmake()"
   ]
  },
  {
   "cell_type": "markdown",
   "metadata": {},
   "source": [
    "## Build and run simulation\n",
    "\n",
    "- `generator`: An optional variable for Windows user to choose the generator of CMake. If 'MSYS', then 'MSYS Makefiles' is used. If 'MinGW', then 'MinGW Makefiles' is used. The default value is 'Auto' and the generator is selected automatically. If sh.exe exists in your PATH, MSYS is choosed, and otherwise MinGW is used. \n",
    "- `vectorize` : If `True`, the vectorization, i.e., `-march=native` compile option is enabled. This can improve speed while can cause numerical issue depending on the compiler.  \n",
    "- `remove_build_dir`: If `True`, the existing build directory is removed. If `False`, the build directory is not removed. Need to be set `True` if you change the generator. Default is `False`."
   ]
  },
  {
   "cell_type": "code",
   "execution_count": 24,
   "metadata": {
    "tags": []
   },
   "outputs": [
    {
     "name": "stdout",
     "output_type": "stream",
     "text": [
      "Update git submodules...\n",
      "Successfully updated git submodules\n",
      "\n",
      "CMake options: -DCMAKE_BUILD_TYPE=Release -DVECTORIZE=OFF -DBUILD_MAIN=ON -DBUILD_PYTHON_INTERFACE=OFF\n",
      "-- The CXX compiler identification is GNU 12.2.0\n",
      "-- Detecting CXX compiler ABI info\n",
      "-- Detecting CXX compiler ABI info - done\n",
      "-- Check for working CXX compiler: D:/mingw64/bin/c++.exe - skipped\n",
      "-- Detecting CXX compile features\n",
      "-- Detecting CXX compile features - done\n",
      "-- Configuring done\n",
      "-- Generating done\n",
      "-- Build files have been written to: D:/Users/hn3to/OneDrive - Kyoto Univ/ToCheck/BenchmarkBook/Test/QuadrotorFTC_Benchmark/generated/QuadrotorFTC/build\n",
      "\n",
      "\n",
      "[ 50%] \u001b[32mBuilding CXX object CMakeFiles/QuadrotorFTC.dir/main.cpp.obj\u001b[0m\n",
      "In file included from D:\\Users\\hn3to\\OneDrive - Kyoto Univ\\ToCheck\\BenchmarkBook\\Test\\QuadrotorFTC_Benchmark\\generated\\QuadrotorFTC\\main.cpp:5:\n",
      "D:\\Users\\hn3to\\OneDrive - Kyoto Univ\\ToCheck\\BenchmarkBook\\Test\\QuadrotorFTC_Benchmark\\generated\\QuadrotorFTC\\ocp.hpp:13:10: fatal error: cgmres/types.hpp: No such file or directory\n",
      "   13 | #include \"cgmres/types.hpp\"\n",
      "      |          ^~~~~~~~~~~~~~~~~~\n",
      "compilation terminated.\n",
      "mingw32-make.exe[2]: *** [CMakeFiles\\QuadrotorFTC.dir\\build.make:76: CMakeFiles/QuadrotorFTC.dir/main.cpp.obj] Error 1\n",
      "mingw32-make.exe[1]: *** [CMakeFiles\\Makefile2:82: CMakeFiles/QuadrotorFTC.dir/all] Error 2\n",
      "mingw32-make.exe: *** [Makefile:90: all] Error 2\n",
      "\n",
      "\n"
     ]
    },
    {
     "ename": "UnicodeDecodeError",
     "evalue": "'utf-8' codec can't decode byte 0x82 in position 19: invalid start byte",
     "output_type": "error",
     "traceback": [
      "\u001b[1;31m---------------------------------------------------------------------------\u001b[0m",
      "\u001b[1;31mUnicodeDecodeError\u001b[0m                        Traceback (most recent call last)",
      "Cell \u001b[1;32mIn [24], line 6\u001b[0m\n\u001b[0;32m      4\u001b[0m ag\u001b[38;5;241m.\u001b[39mgit_submodule_update()\n\u001b[0;32m      5\u001b[0m ag\u001b[38;5;241m.\u001b[39mbuild_main(generator\u001b[38;5;241m=\u001b[39mgenerator, vectorize\u001b[38;5;241m=\u001b[39mvectorize, remove_build_dir\u001b[38;5;241m=\u001b[39mremove_build_dir)\n\u001b[1;32m----> 6\u001b[0m \u001b[43mag\u001b[49m\u001b[38;5;241;43m.\u001b[39;49m\u001b[43mrun_simulation\u001b[49m\u001b[43m(\u001b[49m\u001b[43m)\u001b[49m\n",
      "File \u001b[1;32mD:\\Users\\hn3to\\OneDrive - Kyoto Univ\\ToCheck\\BenchmarkBook\\Test\\QuadrotorFTC_Benchmark\\autogenu_jupyter\\autogenu\\autogenu.py:1472\u001b[0m, in \u001b[0;36mAutoGenU.run_simulation\u001b[1;34m(self)\u001b[0m\n\u001b[0;32m   1464\u001b[0m     proc \u001b[38;5;241m=\u001b[39m subprocess\u001b[38;5;241m.\u001b[39mPopen(\n\u001b[0;32m   1465\u001b[0m         [\u001b[38;5;28mself\u001b[39m\u001b[38;5;241m.\u001b[39m__ocp_name\u001b[38;5;241m+\u001b[39m\u001b[38;5;124m'\u001b[39m\u001b[38;5;124m.exe\u001b[39m\u001b[38;5;124m'\u001b[39m], \n\u001b[0;32m   1466\u001b[0m         cwd\u001b[38;5;241m=\u001b[39m\u001b[38;5;28mself\u001b[39m\u001b[38;5;241m.\u001b[39mget_ocp_build_dir(), \n\u001b[1;32m   (...)\u001b[0m\n\u001b[0;32m   1469\u001b[0m         shell\u001b[38;5;241m=\u001b[39m\u001b[38;5;28;01mTrue\u001b[39;00m\n\u001b[0;32m   1470\u001b[0m     )\n\u001b[0;32m   1471\u001b[0m     \u001b[38;5;28;01mfor\u001b[39;00m line \u001b[38;5;129;01min\u001b[39;00m \u001b[38;5;28miter\u001b[39m(proc\u001b[38;5;241m.\u001b[39mstdout\u001b[38;5;241m.\u001b[39mreadline, \u001b[38;5;124mb\u001b[39m\u001b[38;5;124m'\u001b[39m\u001b[38;5;124m'\u001b[39m):\n\u001b[1;32m-> 1472\u001b[0m         \u001b[38;5;28mprint\u001b[39m(\u001b[43mline\u001b[49m\u001b[38;5;241;43m.\u001b[39;49m\u001b[43mrstrip\u001b[49m\u001b[43m(\u001b[49m\u001b[43m)\u001b[49m\u001b[38;5;241;43m.\u001b[39;49m\u001b[43mdecode\u001b[49m\u001b[43m(\u001b[49m\u001b[38;5;124;43m\"\u001b[39;49m\u001b[38;5;124;43mutf8\u001b[39;49m\u001b[38;5;124;43m\"\u001b[39;49m\u001b[43m)\u001b[49m)\n\u001b[0;32m   1473\u001b[0m \u001b[38;5;28;01melse\u001b[39;00m:\n\u001b[0;32m   1474\u001b[0m     subprocess\u001b[38;5;241m.\u001b[39mrun(\n\u001b[0;32m   1475\u001b[0m         [\u001b[38;5;124m'\u001b[39m\u001b[38;5;124mrm\u001b[39m\u001b[38;5;124m'\u001b[39m, \u001b[38;5;124m'\u001b[39m\u001b[38;5;124m-rf\u001b[39m\u001b[38;5;124m'\u001b[39m, \u001b[38;5;124m'\u001b[39m\u001b[38;5;124mlog\u001b[39m\u001b[38;5;124m'\u001b[39m], \n\u001b[0;32m   1476\u001b[0m         cwd\u001b[38;5;241m=\u001b[39m\u001b[38;5;28mself\u001b[39m\u001b[38;5;241m.\u001b[39mget_ocp_dir(),\n\u001b[1;32m   (...)\u001b[0m\n\u001b[0;32m   1479\u001b[0m         shell\u001b[38;5;241m=\u001b[39m\u001b[38;5;28;01mTrue\u001b[39;00m\n\u001b[0;32m   1480\u001b[0m     )\n",
      "\u001b[1;31mUnicodeDecodeError\u001b[0m: 'utf-8' codec can't decode byte 0x82 in position 19: invalid start byte"
     ]
    }
   ],
   "source": [
    "generator = 'Auto'  \n",
    "vectorize = False\n",
    "remove_build_dir = True # False  # It is safe to remove the build directory if you use different environments.\n",
    "ag.git_submodule_update()\n",
    "ag.build_main(generator=generator, vectorize=vectorize, remove_build_dir=remove_build_dir)\n",
    "ag.run_simulation()"
   ]
  },
  {
   "cell_type": "markdown",
   "metadata": {},
   "source": [
    "## Plot the simulation results"
   ]
  },
  {
   "cell_type": "code",
   "execution_count": 25,
   "metadata": {},
   "outputs": [],
   "source": [
    "%matplotlib inline"
   ]
  },
  {
   "cell_type": "code",
   "execution_count": 26,
   "metadata": {},
   "outputs": [
    {
     "ename": "FileNotFoundError",
     "evalue": "D:\\Users\\hn3to\\OneDrive - Kyoto Univ\\ToCheck\\BenchmarkBook\\Test\\QuadrotorFTC_Benchmark\\generated\\QuadrotorFTC\\log\\QuadrotorFTC_t.log not found.",
     "output_type": "error",
     "traceback": [
      "\u001b[1;31m---------------------------------------------------------------------------\u001b[0m",
      "\u001b[1;31mFileNotFoundError\u001b[0m                         Traceback (most recent call last)",
      "Cell \u001b[1;32mIn [26], line 1\u001b[0m\n\u001b[1;32m----> 1\u001b[0m plotter \u001b[38;5;241m=\u001b[39m \u001b[43mautogenu\u001b[49m\u001b[38;5;241;43m.\u001b[39;49m\u001b[43mPlotter\u001b[49m\u001b[43m(\u001b[49m\u001b[43mlog_dir\u001b[49m\u001b[38;5;241;43m=\u001b[39;49m\u001b[43mag\u001b[49m\u001b[38;5;241;43m.\u001b[39;49m\u001b[43mget_ocp_log_dir\u001b[49m\u001b[43m(\u001b[49m\u001b[43m)\u001b[49m\u001b[43m,\u001b[49m\u001b[43m \u001b[49m\u001b[43mlog_name\u001b[49m\u001b[38;5;241;43m=\u001b[39;49m\u001b[43mag\u001b[49m\u001b[38;5;241;43m.\u001b[39;49m\u001b[43mget_ocp_name\u001b[49m\u001b[43m(\u001b[49m\u001b[43m)\u001b[49m\u001b[43m)\u001b[49m\n\u001b[0;32m      2\u001b[0m plotter\u001b[38;5;241m.\u001b[39mset_scales(\u001b[38;5;241m2\u001b[39m,\u001b[38;5;241m5\u001b[39m,\u001b[38;5;241m2\u001b[39m)\n\u001b[0;32m      3\u001b[0m \u001b[38;5;66;03m# plotter.show()\u001b[39;00m\n",
      "File \u001b[1;32mD:\\Users\\hn3to\\OneDrive - Kyoto Univ\\ToCheck\\BenchmarkBook\\Test\\QuadrotorFTC_Benchmark\\autogenu_jupyter\\autogenu\\plotter.py:22\u001b[0m, in \u001b[0;36mPlotter.__init__\u001b[1;34m(self, log_dir, log_name)\u001b[0m\n\u001b[0;32m     20\u001b[0m \u001b[38;5;28mself\u001b[39m\u001b[38;5;241m.\u001b[39m__log_dir \u001b[38;5;241m=\u001b[39m log_dir\n\u001b[0;32m     21\u001b[0m \u001b[38;5;28mself\u001b[39m\u001b[38;5;241m.\u001b[39m__log_name \u001b[38;5;241m=\u001b[39m log_name\n\u001b[1;32m---> 22\u001b[0m \u001b[38;5;28mself\u001b[39m\u001b[38;5;241m.\u001b[39m__t_data \u001b[38;5;241m=\u001b[39m \u001b[43mnp\u001b[49m\u001b[38;5;241;43m.\u001b[39;49m\u001b[43mgenfromtxt\u001b[49m\u001b[43m(\u001b[49m\u001b[43mos\u001b[49m\u001b[38;5;241;43m.\u001b[39;49m\u001b[43mpath\u001b[49m\u001b[38;5;241;43m.\u001b[39;49m\u001b[43mjoin\u001b[49m\u001b[43m(\u001b[49m\u001b[43mlog_dir\u001b[49m\u001b[43m,\u001b[49m\u001b[43m \u001b[49m\u001b[43mlog_name\u001b[49m\u001b[38;5;241;43m+\u001b[39;49m\u001b[38;5;124;43m'\u001b[39;49m\u001b[38;5;124;43m_t.log\u001b[39;49m\u001b[38;5;124;43m'\u001b[39;49m\u001b[43m)\u001b[49m\u001b[43m)\u001b[49m\n\u001b[0;32m     23\u001b[0m \u001b[38;5;28mself\u001b[39m\u001b[38;5;241m.\u001b[39m__x_data \u001b[38;5;241m=\u001b[39m np\u001b[38;5;241m.\u001b[39mgenfromtxt(os\u001b[38;5;241m.\u001b[39mpath\u001b[38;5;241m.\u001b[39mjoin(log_dir, log_name\u001b[38;5;241m+\u001b[39m\u001b[38;5;124m'\u001b[39m\u001b[38;5;124m_x.log\u001b[39m\u001b[38;5;124m'\u001b[39m))\n\u001b[0;32m     24\u001b[0m \u001b[38;5;28mself\u001b[39m\u001b[38;5;241m.\u001b[39m__u_data \u001b[38;5;241m=\u001b[39m np\u001b[38;5;241m.\u001b[39mgenfromtxt(os\u001b[38;5;241m.\u001b[39mpath\u001b[38;5;241m.\u001b[39mjoin(log_dir, log_name\u001b[38;5;241m+\u001b[39m\u001b[38;5;124m'\u001b[39m\u001b[38;5;124m_u.log\u001b[39m\u001b[38;5;124m'\u001b[39m))\n",
      "File \u001b[1;32mD:\\Users\\hn3to\\AppData\\Roaming\\jupyterlab-desktop\\jlab_server\\lib\\site-packages\\numpy\\lib\\npyio.py:1939\u001b[0m, in \u001b[0;36mgenfromtxt\u001b[1;34m(fname, dtype, comments, delimiter, skip_header, skip_footer, converters, missing_values, filling_values, usecols, names, excludelist, deletechars, replace_space, autostrip, case_sensitive, defaultfmt, unpack, usemask, loose, invalid_raise, max_rows, encoding, ndmin, like)\u001b[0m\n\u001b[0;32m   1937\u001b[0m     fname \u001b[38;5;241m=\u001b[39m os_fspath(fname)\n\u001b[0;32m   1938\u001b[0m \u001b[38;5;28;01mif\u001b[39;00m \u001b[38;5;28misinstance\u001b[39m(fname, \u001b[38;5;28mstr\u001b[39m):\n\u001b[1;32m-> 1939\u001b[0m     fid \u001b[38;5;241m=\u001b[39m \u001b[43mnp\u001b[49m\u001b[38;5;241;43m.\u001b[39;49m\u001b[43mlib\u001b[49m\u001b[38;5;241;43m.\u001b[39;49m\u001b[43m_datasource\u001b[49m\u001b[38;5;241;43m.\u001b[39;49m\u001b[43mopen\u001b[49m\u001b[43m(\u001b[49m\u001b[43mfname\u001b[49m\u001b[43m,\u001b[49m\u001b[43m \u001b[49m\u001b[38;5;124;43m'\u001b[39;49m\u001b[38;5;124;43mrt\u001b[39;49m\u001b[38;5;124;43m'\u001b[39;49m\u001b[43m,\u001b[49m\u001b[43m \u001b[49m\u001b[43mencoding\u001b[49m\u001b[38;5;241;43m=\u001b[39;49m\u001b[43mencoding\u001b[49m\u001b[43m)\u001b[49m\n\u001b[0;32m   1940\u001b[0m     fid_ctx \u001b[38;5;241m=\u001b[39m contextlib\u001b[38;5;241m.\u001b[39mclosing(fid)\n\u001b[0;32m   1941\u001b[0m \u001b[38;5;28;01melse\u001b[39;00m:\n",
      "File \u001b[1;32mD:\\Users\\hn3to\\AppData\\Roaming\\jupyterlab-desktop\\jlab_server\\lib\\site-packages\\numpy\\lib\\_datasource.py:193\u001b[0m, in \u001b[0;36mopen\u001b[1;34m(path, mode, destpath, encoding, newline)\u001b[0m\n\u001b[0;32m    156\u001b[0m \u001b[38;5;124;03m\"\"\"\u001b[39;00m\n\u001b[0;32m    157\u001b[0m \u001b[38;5;124;03mOpen `path` with `mode` and return the file object.\u001b[39;00m\n\u001b[0;32m    158\u001b[0m \n\u001b[1;32m   (...)\u001b[0m\n\u001b[0;32m    189\u001b[0m \n\u001b[0;32m    190\u001b[0m \u001b[38;5;124;03m\"\"\"\u001b[39;00m\n\u001b[0;32m    192\u001b[0m ds \u001b[38;5;241m=\u001b[39m DataSource(destpath)\n\u001b[1;32m--> 193\u001b[0m \u001b[38;5;28;01mreturn\u001b[39;00m \u001b[43mds\u001b[49m\u001b[38;5;241;43m.\u001b[39;49m\u001b[43mopen\u001b[49m\u001b[43m(\u001b[49m\u001b[43mpath\u001b[49m\u001b[43m,\u001b[49m\u001b[43m \u001b[49m\u001b[43mmode\u001b[49m\u001b[43m,\u001b[49m\u001b[43m \u001b[49m\u001b[43mencoding\u001b[49m\u001b[38;5;241;43m=\u001b[39;49m\u001b[43mencoding\u001b[49m\u001b[43m,\u001b[49m\u001b[43m \u001b[49m\u001b[43mnewline\u001b[49m\u001b[38;5;241;43m=\u001b[39;49m\u001b[43mnewline\u001b[49m\u001b[43m)\u001b[49m\n",
      "File \u001b[1;32mD:\\Users\\hn3to\\AppData\\Roaming\\jupyterlab-desktop\\jlab_server\\lib\\site-packages\\numpy\\lib\\_datasource.py:533\u001b[0m, in \u001b[0;36mDataSource.open\u001b[1;34m(self, path, mode, encoding, newline)\u001b[0m\n\u001b[0;32m    530\u001b[0m     \u001b[38;5;28;01mreturn\u001b[39;00m _file_openers[ext](found, mode\u001b[38;5;241m=\u001b[39mmode,\n\u001b[0;32m    531\u001b[0m                               encoding\u001b[38;5;241m=\u001b[39mencoding, newline\u001b[38;5;241m=\u001b[39mnewline)\n\u001b[0;32m    532\u001b[0m \u001b[38;5;28;01melse\u001b[39;00m:\n\u001b[1;32m--> 533\u001b[0m     \u001b[38;5;28;01mraise\u001b[39;00m \u001b[38;5;167;01mFileNotFoundError\u001b[39;00m(\u001b[38;5;124mf\u001b[39m\u001b[38;5;124m\"\u001b[39m\u001b[38;5;132;01m{\u001b[39;00mpath\u001b[38;5;132;01m}\u001b[39;00m\u001b[38;5;124m not found.\u001b[39m\u001b[38;5;124m\"\u001b[39m)\n",
      "\u001b[1;31mFileNotFoundError\u001b[0m: D:\\Users\\hn3to\\OneDrive - Kyoto Univ\\ToCheck\\BenchmarkBook\\Test\\QuadrotorFTC_Benchmark\\generated\\QuadrotorFTC\\log\\QuadrotorFTC_t.log not found."
     ]
    }
   ],
   "source": [
    "plotter = autogenu.Plotter(log_dir=ag.get_ocp_log_dir(), log_name=ag.get_ocp_name())\n",
    "plotter.set_scales(2,5,2)\n",
    "# plotter.show()\n",
    "plotter.save()"
   ]
  },
  {
   "cell_type": "markdown",
   "metadata": {},
   "source": [
    "# Run the following 4.1 and 4.2 only when you want to build and install Python interface as it takes long. "
   ]
  },
  {
   "cell_type": "markdown",
   "metadata": {},
   "source": [
    "\n",
    "## Build Python interface\n",
    "\n",
    "- `generator`: An optional variable for Windows user to choose the generator of CMake. If 'MSYS', then 'MSYS Makefiles' is used. If 'MinGW', then 'MinGW Makefiles' is used. The default value is 'Auto' and the generator is selected automatically. If sh.exe exists in your PATH, MSYS is choosed, and otherwise MinGW is used. \n",
    "- `vectorize` : If `True`, the vectorization, i.e., `-march=native` compile option is enabled. This can improve speed while can cause numerical issue depending on the compiler.  \n",
    "- `remove_build_dir`: If `True`, the existing build directory is removed. If `False`, the build directory is not removed. Need to be set `True` if you change the generator. Default is `False`."
   ]
  },
  {
   "cell_type": "raw",
   "metadata": {},
   "source": [
    "# If you want to run this cell, change the cell type from \"Raw\" to \"Code\" \n",
    "generator = 'Auto'  \n",
    "vectorize = False\n",
    "remove_build_dir = True  #  It may be safe to remove the build directory if you run this notebook on different environments\n",
    "ag.generate_python_bindings()\n",
    "ag.git_submodule_update()\n",
    "ag.build_python_interface(generator=generator, vectorize=vectorize, remove_build_dir=remove_build_dir)"
   ]
  },
  {
   "cell_type": "markdown",
   "metadata": {},
   "source": [
    "## Install Python interface\n",
    "\n",
    "- `install_prefix` : Prefix of the install destination of the python interfaces. Default is None.\n",
    "    -  If this is None (default), then it is `~/.local/lib/python3.x` (`python3.x` is your Python version). \n",
    "        - If you use Ubuntu, `~/.local/lib/python3.x` is the default Python path, and you do not need to set `PYTHONPATH` additonally.  \n",
    "        - If you use MacOSX or Windows, add it to the Python PATH, as `export PYTHONPATH=$PYTHONPATH:$HOME/.local/lib/python3.x/site-packages`\n",
    "\n",
    "The usage of Python interfaces is introduced in `examples/python` directory."
   ]
  },
  {
   "cell_type": "raw",
   "metadata": {},
   "source": [
    "# If you want to run this cell, change the cell type from \"Raw\" to \"Code\" \n",
    "import os\n",
    "ag.install_python_interface(install_prefix=os.getcwd())  # Store generated files to the cgmres directory under the current working directory"
   ]
  },
  {
   "cell_type": "markdown",
   "metadata": {},
   "source": [
    "## Generate Documentation\n",
    "The documentations for the generated code are available.  \n",
    "`Doxygen` is required for the docs generation."
   ]
  },
  {
   "cell_type": "code",
   "execution_count": 20,
   "metadata": {
    "tags": []
   },
   "outputs": [],
   "source": [
    "# autogenu.generate_docs()\n",
    "# autogenu.open_docs()"
   ]
  }
 ],
 "metadata": {
  "kernelspec": {
   "display_name": "Python 3 (ipykernel)",
   "language": "python",
   "name": "python3"
  },
  "language_info": {
   "codemirror_mode": {
    "name": "ipython",
    "version": 3
   },
   "file_extension": ".py",
   "mimetype": "text/x-python",
   "name": "python",
   "nbconvert_exporter": "python",
   "pygments_lexer": "ipython3",
   "version": "3.8.13"
  },
  "toc": {
   "base_numbering": 1,
   "nav_menu": {},
   "number_sections": true,
   "sideBar": true,
   "skip_h1_title": false,
   "title_cell": "Table of Contents",
   "title_sidebar": "Contents",
   "toc_cell": false,
   "toc_position": {},
   "toc_section_display": true,
   "toc_window_display": false
  },
  "vscode": {
   "interpreter": {
    "hash": "916dbcbb3f70747c44a77c7bcd40155683ae19c65e1c03b4aa3499c5328201f1"
   }
  }
 },
 "nbformat": 4,
 "nbformat_minor": 4
}
